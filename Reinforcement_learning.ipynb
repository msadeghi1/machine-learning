{
 "cells": [
  {
   "cell_type": "code",
   "execution_count": 1,
   "id": "85eecbe7",
   "metadata": {},
   "outputs": [],
   "source": [
    "#Reinforcement Learning implementation for Cliff Walking problem\n",
    "#Written by Morteza Sadeghi- morteza.sadeghi@mat.ethz.ch\n",
    "import numpy as np\n",
    "import copy\n",
    "import collections as coll\n",
    "import random\n",
    "import tensorflow as tf\n",
    "import time\n",
    "\n",
    "from tensorflow.keras import Sequential\n",
    "from tensorflow.keras.layers import Dense, Input\n",
    "from tensorflow.keras.losses import MSE\n",
    "from tensorflow.keras.optimizers import Adam"
   ]
  },
  {
   "cell_type": "code",
   "execution_count": 2,
   "id": "399c77cc",
   "metadata": {},
   "outputs": [],
   "source": [
    "height=10\n",
    "width=10\n",
    "state_size=2\n",
    "learning_rate=0.001\n",
    "num_episodes = 2000\n",
    "num_timesteps = 1000\n",
    "max_len_memory_buffer=100000\n",
    "num_steps_update=4\n",
    "mini_batch_size=64\n",
    "gama=0.995\n",
    "tau=0.001\n",
    "epsilon_min=0.01\n",
    "epsilon_coeff=0.995\n",
    "num_ave=100\n",
    "epsilon=1"
   ]
  },
  {
   "cell_type": "code",
   "execution_count": 3,
   "id": "244ae7a1",
   "metadata": {},
   "outputs": [],
   "source": [
    "\n",
    "class Agent:\n",
    "    def __init__(self,state_size,learning_rate):\n",
    "        \n",
    "        self.action_space=[\"U\",\"D\",\"R\",\"L\"]\n",
    "        self.action_size=len(self.action_space)\n",
    "        self.state_size=state_size\n",
    "        \n",
    "        self.q_network=Sequential([Input(shape=self.state_size),                      \n",
    "        Dense(units=64, activation='relu'),            \n",
    "        Dense(units=64, activation='relu'),            \n",
    "        Dense(units=self.action_size, activation='linear'),])\n",
    "        \n",
    "        self.target_q_network = Sequential([\n",
    "        Input(shape=state_size),                       \n",
    "        Dense(units=64, activation='relu'),            \n",
    "        Dense(units=64, activation='relu'),            \n",
    "        Dense(units=self.action_size, activation='linear'), \n",
    "        ])\n",
    "        \n",
    "        self.target_q_network.set_weights(self.q_network.get_weights())\n",
    "        \n",
    "        self.optimizer = Adam(learning_rate=learning_rate) \n",
    "        \n",
    "      \n",
    "    def choose_action(self,epsilon,qvalues):\n",
    "        if np.random.random() < epsilon:\n",
    "            return np.random.choice(range(self.action_size))\n",
    "        else:\n",
    "            return np.argmax(qvalues)\n",
    "        \n",
    "  \n",
    "    def loss_func(self,experiences,gama):\n",
    "        \n",
    "        \n",
    "        states=np.array([e.state for e in experiences])\n",
    "        actions=np.array([e.action for e in experiences])\n",
    "        rewards=np.array([e.reward for e in experiences])\n",
    "        next_states=np.array([e.next_state for e in experiences])\n",
    "        done_vals=np.array([e.done for e in experiences]).astype('int')\n",
    "        \n",
    "               \n",
    "        states=tf.convert_to_tensor(states,dtype=tf.float32)\n",
    "        actions=tf.convert_to_tensor(actions,dtype=tf.float32)\n",
    "        rewards=tf.convert_to_tensor(rewards,dtype=tf.float32)\n",
    "        next_states=tf.convert_to_tensor(next_states,dtype=tf.float32)\n",
    "        done_vals=tf.convert_to_tensor(done_vals,dtype=tf.float32)\n",
    "        \n",
    "        y_values=rewards+(1-done_vals)*(gama*tf.reduce_max(self.target_q_network(next_states),axis=1))\n",
    "        \n",
    "        q_values = self.q_network(states)\n",
    "        q_values = tf.gather_nd(q_values, tf.stack([tf.range(q_values.shape[0]),\n",
    "                                                tf.cast(actions, tf.int32)], axis=1))\n",
    "            \n",
    "       \n",
    "        loss=MSE(q_values,y_values) \n",
    "        return loss\n",
    "    \n",
    "\n",
    "    def learn(self,experiences,gama,tau):\n",
    "        with tf.GradientTape() as tape:\n",
    "            loss=self.loss_func(experiences,gama)\n",
    " \n",
    "        gradients = tape.gradient(loss, self.q_network.trainable_variables)\n",
    "        self.optimizer.apply_gradients(zip(gradients, self.q_network.trainable_variables))\n",
    "        \n",
    "        target_weights=self.target_q_network.get_weights()\n",
    "        weights=self.q_network.get_weights()\n",
    "        \n",
    "        for i in range(len(weights)):\n",
    "             target_weights[i]=weights[i]*tau+target_weights[i]*(1-tau)\n",
    "        \n",
    "        self.target_q_network.set_weights(target_weights)        \n",
    "         "
   ]
  },
  {
   "cell_type": "code",
   "execution_count": 4,
   "id": "4f4d8a87",
   "metadata": {},
   "outputs": [],
   "source": [
    "class environment:\n",
    "    def __init__(self,height,width,state_size):\n",
    "        self.height=height\n",
    "        self.width=width\n",
    "        self.state_size=state_size\n",
    "        self.max_step=1000\n",
    "    def reset(self):\n",
    "        state=np.zeros(2)\n",
    "        state[0]=1\n",
    "        state[1]=1\n",
    "        return state      \n",
    "    def step(self,action,state):\n",
    "        next_state=np.zeros(2)\n",
    "        next_state=copy.deepcopy(state)\n",
    "        if ((action==0) and (state[0]<self.height)):\n",
    "            next_state[0]=state[0]+1\n",
    "            reward=-1\n",
    "        elif ((action==0) and (state[0]==self.height)):\n",
    "            reward=-10\n",
    "        elif ((action==1) & (state[0]>1)):\n",
    "            next_state[0]=state[0]-1\n",
    "            reward=-1\n",
    "        elif ((action==1) & (state[0]==1)):\n",
    "            reward=-10\n",
    "        elif ((action==2) & (state[1]<self.width)): \n",
    "            next_state[1]=state[1]+1\n",
    "            reward=-1\n",
    "        elif ((action==2) & (state[1]==self.width)):  \n",
    "            reward=-10\n",
    "        elif ((action==3) & (state[1]>1)):\n",
    "            next_state[1]=state[1]-1\n",
    "            reward=-1\n",
    "        elif ((action==3) & (state[1]==1)): \n",
    "            reward=-10\n",
    "            \n",
    "        if (next_state[0]==1) & (next_state[1]!=1) & (next_state[1]!=self.width):\n",
    "            reward=-100\n",
    "        elif (next_state[0]==1) & (next_state[1]==self.width):\n",
    "            reward=100\n",
    " \n",
    "        done=False    \n",
    "        if ((next_state[0]==1) & (next_state[1]>1)):\n",
    "            done=True\n",
    "        return next_state,reward,done  "
   ]
  },
  {
   "cell_type": "code",
   "execution_count": 5,
   "id": "f914ceff",
   "metadata": {},
   "outputs": [],
   "source": [
    "experience=coll.namedtuple(\"experience\",field_names=['state','action','reward','next_state','done'])"
   ]
  },
  {
   "cell_type": "code",
   "execution_count": 6,
   "id": "cdb725c5",
   "metadata": {},
   "outputs": [
    {
     "name": "stdout",
     "output_type": "stream",
     "text": [
      "(array([1., 2.]), -100, True)\n"
     ]
    }
   ],
   "source": [
    "env=environment(height,width,state_size)\n",
    "state=env.reset()\n",
    "print(env.step(2,state))"
   ]
  },
  {
   "cell_type": "code",
   "execution_count": 7,
   "id": "c3b084e5",
   "metadata": {},
   "outputs": [
    {
     "name": "stdout",
     "output_type": "stream",
     "text": [
      "Episode 100 | Total point average of the last 100 episodes: -466.71\n",
      "Episode 200 | Total point average of the last 100 episodes: -500.04\n",
      "Episode 300 | Total point average of the last 100 episodes: -288.14\n",
      "Episode 400 | Total point average of the last 100 episodes: -436.14\n",
      "Episode 500 | Total point average of the last 100 episodes: -333.45\n",
      "Episode 600 | Total point average of the last 100 episodes: -396.02\n",
      "Episode 700 | Total point average of the last 100 episodes: -132.74\n",
      "Episode 800 | Total point average of the last 100 episodes: -40.81\n",
      "Episode 900 | Total point average of the last 100 episodes: -23.31\n",
      "Episode 1000 | Total point average of the last 100 episodes: 8.34\n",
      "Episode 1100 | Total point average of the last 100 episodes: 27.88\n",
      "Episode 1200 | Total point average of the last 100 episodes: 22.39\n",
      "Episode 1300 | Total point average of the last 100 episodes: 33.45\n",
      "Episode 1400 | Total point average of the last 100 episodes: 61.51\n",
      "Episode 1500 | Total point average of the last 100 episodes: 45.53\n",
      "Episode 1600 | Total point average of the last 100 episodes: 70.71\n",
      "\n",
      " Environment solved in 1621 number of Episodes, and the total point average of the last 100 episodes is 86.04. Enjoy!\n",
      "total time of simulation: 2098.1720740795135\n"
     ]
    }
   ],
   "source": [
    "start = time.time()\n",
    "memory_buffer=coll.deque(maxlen=max_len_memory_buffer)\n",
    "agent=Agent(state_size,learning_rate)\n",
    "\n",
    "history=[]\n",
    "for i in range(num_episodes):\n",
    "    state=env.reset()\n",
    "    total_points=0\n",
    "    \n",
    "    for j in range(num_timesteps):\n",
    "        state_qn=np.expand_dims(state,axis=0)\n",
    "        q_values=agent.q_network(state_qn)\n",
    "    \n",
    "        \n",
    "        action=agent.choose_action(epsilon,q_values)\n",
    "    \n",
    "        next_state,reward,done=env.step(action,state)\n",
    "        memory_buffer.append(experience(state,action,reward,next_state,done))\n",
    "        \n",
    "        if ((j+1)%num_steps_update==0) & (len(memory_buffer)>mini_batch_size):\n",
    "            experiences_for_learn=random.sample(memory_buffer,mini_batch_size)\n",
    "            \n",
    "            agent.learn(experiences_for_learn,gama,tau)\n",
    "    \n",
    "        state=copy.deepcopy(next_state)\n",
    "        total_points=total_points+reward\n",
    "        \n",
    "        if done:\n",
    "            break\n",
    "                  \n",
    "    history.append(total_points)\n",
    "    \n",
    "    epsilon=max(epsilon_min,epsilon*epsilon_coeff)\n",
    "    \n",
    "    ave_latest_point=np.mean(history[-num_ave:])\n",
    "    \n",
    "    if (i+1) % num_ave == 0:\n",
    "        print(f\"\\rEpisode {i+1} | Total point average of the last {num_ave} episodes: {ave_latest_point:.2f}\")\n",
    "    \n",
    "    if (ave_latest_point>85):\n",
    "        print(f\"\\n Environment solved in {i+1} number of Episodes, and the total point average of the last {num_ave} episodes is {ave_latest_point:.2f}. Enjoy!\")\n",
    "        break\n",
    "        \n",
    "duration=time.time()-start\n",
    "print(f\"total time of simulation: {duration}\")"
   ]
  },
  {
   "cell_type": "code",
   "execution_count": 8,
   "id": "7ff20acd",
   "metadata": {},
   "outputs": [
    {
     "data": {
      "text/plain": [
       "[<matplotlib.lines.Line2D at 0x1784297d340>]"
      ]
     },
     "execution_count": 8,
     "metadata": {},
     "output_type": "execute_result"
    },
    {
     "data": {
      "image/png": "[encoded data removed]",
      "text/plain": [
       "<Figure size 432x288 with 1 Axes>"
      ]
     },
     "metadata": {
      "needs_background": "light"
     },
     "output_type": "display_data"
    }
   ],
   "source": [
    "import matplotlib.pyplot as plt\n",
    "import pandas as pd\n",
    "total_episodes=len(history)\n",
    "plt.plot(range(total_episodes),history)\n",
    "size=total_episodes//5\n",
    "rolling_mean = pd.DataFrame(history).rolling(size).mean()\n",
    "plt.plot(range(total_episodes), rolling_mean, linewidth=2, color=\"magenta\")"
   ]
  },
  {
   "cell_type": "code",
   "execution_count": null,
   "id": "2aef03c1",
   "metadata": {},
   "outputs": [],
   "source": []
  },
  {
   "cell_type": "code",
   "execution_count": null,
   "id": "77dba8c4",
   "metadata": {},
   "outputs": [],
   "source": []
  }
 ],
 "metadata": {
  "kernelspec": {
   "display_name": "Python 3 (ipykernel)",
   "language": "python",
   "name": "python3"
  },
  "language_info": {
   "codemirror_mode": {
    "name": "ipython",
    "version": 3
   },
   "file_extension": ".py",
   "mimetype": "text/x-python",
   "name": "python",
   "nbconvert_exporter": "python",
   "pygments_lexer": "ipython3",
   "version": "3.9.7"
  }
 },
 "nbformat": 4,
 "nbformat_minor": 5
}
