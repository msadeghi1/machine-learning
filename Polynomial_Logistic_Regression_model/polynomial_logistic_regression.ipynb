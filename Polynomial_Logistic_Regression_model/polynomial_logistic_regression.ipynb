{
 "cells": [
  {
   "cell_type": "code",
   "execution_count": 1,
   "id": "376385cd",
   "metadata": {},
   "outputs": [],
   "source": [
    "import numpy as np\n",
    "import matplotlib.pyplot as plt\n",
    "import pandas as pd"
   ]
  },
  {
   "cell_type": "code",
   "execution_count": 2,
   "id": "6a012b3b",
   "metadata": {},
   "outputs": [
    {
     "data": {
      "text/html": [
       "<div>\n",
       "<style scoped>\n",
       "    .dataframe tbody tr th:only-of-type {\n",
       "        vertical-align: middle;\n",
       "    }\n",
       "\n",
       "    .dataframe tbody tr th {\n",
       "        vertical-align: top;\n",
       "    }\n",
       "\n",
       "    .dataframe thead th {\n",
       "        text-align: right;\n",
       "    }\n",
       "</style>\n",
       "<table border=\"1\" class=\"dataframe\">\n",
       "  <thead>\n",
       "    <tr style=\"text-align: right;\">\n",
       "      <th></th>\n",
       "      <th>feature1</th>\n",
       "      <th>feature2</th>\n",
       "      <th>positive or negative</th>\n",
       "    </tr>\n",
       "  </thead>\n",
       "  <tbody>\n",
       "    <tr>\n",
       "      <th>0</th>\n",
       "      <td>0.051267</td>\n",
       "      <td>0.699560</td>\n",
       "      <td>positive</td>\n",
       "    </tr>\n",
       "    <tr>\n",
       "      <th>1</th>\n",
       "      <td>-0.092742</td>\n",
       "      <td>0.684940</td>\n",
       "      <td>positive</td>\n",
       "    </tr>\n",
       "    <tr>\n",
       "      <th>2</th>\n",
       "      <td>-0.213710</td>\n",
       "      <td>0.692250</td>\n",
       "      <td>positive</td>\n",
       "    </tr>\n",
       "    <tr>\n",
       "      <th>3</th>\n",
       "      <td>-0.375000</td>\n",
       "      <td>0.502190</td>\n",
       "      <td>positive</td>\n",
       "    </tr>\n",
       "    <tr>\n",
       "      <th>4</th>\n",
       "      <td>-0.513250</td>\n",
       "      <td>0.465640</td>\n",
       "      <td>positive</td>\n",
       "    </tr>\n",
       "    <tr>\n",
       "      <th>5</th>\n",
       "      <td>-0.524770</td>\n",
       "      <td>0.209800</td>\n",
       "      <td>positive</td>\n",
       "    </tr>\n",
       "    <tr>\n",
       "      <th>6</th>\n",
       "      <td>-0.398040</td>\n",
       "      <td>0.034357</td>\n",
       "      <td>positive</td>\n",
       "    </tr>\n",
       "    <tr>\n",
       "      <th>7</th>\n",
       "      <td>-0.305880</td>\n",
       "      <td>-0.192250</td>\n",
       "      <td>positive</td>\n",
       "    </tr>\n",
       "    <tr>\n",
       "      <th>8</th>\n",
       "      <td>0.016705</td>\n",
       "      <td>-0.404240</td>\n",
       "      <td>positive</td>\n",
       "    </tr>\n",
       "    <tr>\n",
       "      <th>9</th>\n",
       "      <td>0.131910</td>\n",
       "      <td>-0.513890</td>\n",
       "      <td>positive</td>\n",
       "    </tr>\n",
       "    <tr>\n",
       "      <th>10</th>\n",
       "      <td>0.385370</td>\n",
       "      <td>-0.565060</td>\n",
       "      <td>positive</td>\n",
       "    </tr>\n",
       "  </tbody>\n",
       "</table>\n",
       "</div>"
      ],
      "text/plain": [
       "    feature1  feature2 positive or negative\n",
       "0   0.051267  0.699560             positive\n",
       "1  -0.092742  0.684940             positive\n",
       "2  -0.213710  0.692250             positive\n",
       "3  -0.375000  0.502190             positive\n",
       "4  -0.513250  0.465640             positive\n",
       "5  -0.524770  0.209800             positive\n",
       "6  -0.398040  0.034357             positive\n",
       "7  -0.305880 -0.192250             positive\n",
       "8   0.016705 -0.404240             positive\n",
       "9   0.131910 -0.513890             positive\n",
       "10  0.385370 -0.565060             positive"
      ]
     },
     "execution_count": 2,
     "metadata": {},
     "output_type": "execute_result"
    }
   ],
   "source": [
    "data=np.loadtxt('data.txt',delimiter=',',dtype='float')\n",
    "df=pd.DataFrame(data,columns=['feature1','feature2','positive or negative'])\n",
    "df['positive or negative']=df['positive or negative'].replace([0,1],['negative','positive'])\n",
    "df.head(11)"
   ]
  },
  {
   "cell_type": "code",
   "execution_count": 3,
   "id": "373f88ef",
   "metadata": {},
   "outputs": [],
   "source": [
    "x_train=data[:,:2];y_train=data[:,2]\n"
   ]
  },
  {
   "cell_type": "code",
   "execution_count": 4,
   "id": "90fd6cec",
   "metadata": {},
   "outputs": [],
   "source": [
    "positive=np.where(y_train==1);negative=np.where(y_train!=1)"
   ]
  },
  {
   "cell_type": "code",
   "execution_count": 5,
   "id": "1bc6fdef",
   "metadata": {},
   "outputs": [
    {
     "data": {
      "text/plain": [
       "<matplotlib.legend.Legend at 0x2007982db80>"
      ]
     },
     "execution_count": 5,
     "metadata": {},
     "output_type": "execute_result"
    },
    {
     "data": {
      "image/png": "[encoded data removed]",
      "text/plain": [
       "<Figure size 432x288 with 1 Axes>"
      ]
     },
     "metadata": {
      "needs_background": "light"
     },
     "output_type": "display_data"
    }
   ],
   "source": [
    "plt.scatter(x_train[positive,0],x_train[positive,1],marker='+',color='r',label='positive')\n",
    "plt.scatter(x_train[negative,0],x_train[negative,1],marker='*',color='b',label='negative')\n",
    "plt.legend(loc='upper right')"
   ]
  },
  {
   "cell_type": "code",
   "execution_count": 6,
   "id": "e5b08acd",
   "metadata": {},
   "outputs": [
    {
     "name": "stdout",
     "output_type": "stream",
     "text": [
      "(118, 2)\n",
      "(118,)\n"
     ]
    }
   ],
   "source": [
    "print(x_train.shape);print(y_train.shape)"
   ]
  },
  {
   "cell_type": "code",
   "execution_count": 7,
   "id": "ebc36f9f",
   "metadata": {},
   "outputs": [],
   "source": [
    "#generating polynomial features with desire degree of algebraic expression \n",
    "def map_feature(x1,x2,degree):\n",
    "    feature=[]\n",
    "    count=0\n",
    "    for i in range (1,degree+1):\n",
    "        for j in range(i+1):\n",
    "            feature.append((x1**(i-j))*(x2**j))\n",
    "            count=count+1\n",
    "    feature=np.array(feature);feature=(feature.reshape(count,-1)).T\n",
    "    return feature,count\n"
   ]
  },
  {
   "cell_type": "code",
   "execution_count": 8,
   "id": "fa000fcc",
   "metadata": {},
   "outputs": [],
   "source": [
    "x_mapped, count=map_feature(x_train[:,0],x_train[:,1],6)"
   ]
  },
  {
   "cell_type": "code",
   "execution_count": 9,
   "id": "e2d43002",
   "metadata": {},
   "outputs": [],
   "source": [
    "def sigmoid(x):\n",
    "    #x:ndarray (m,n) dimensional\n",
    "    sigmoid=1/(1+np.exp(-x))\n",
    "    return sigmoid"
   ]
  },
  {
   "cell_type": "code",
   "execution_count": 10,
   "id": "6605dbbe",
   "metadata": {},
   "outputs": [],
   "source": [
    "def feature_scaling(x):\n",
    "    #x: input feature with shape (m,n)\n",
    "    mu=np.mean(x,axis=0,keepdims=True)\n",
    "    std=np.std(x,axis=0,keepdims=True)\n",
    "    x_scaled=(x-mu)/std\n",
    "    return mu,std,x_scaled"
   ]
  },
  {
   "cell_type": "code",
   "execution_count": 11,
   "id": "1c834492",
   "metadata": {},
   "outputs": [],
   "source": [
    "mu,sigma,x_mapped_scaled=feature_scaling(x_mapped)"
   ]
  },
  {
   "cell_type": "code",
   "execution_count": 12,
   "id": "5d2b56a4",
   "metadata": {},
   "outputs": [],
   "source": [
    "#Cost function with regularization\n",
    "def cost_function(x,y,w,b,landa):\n",
    "    #x input features ndarray(m,n) m:number of training examples n:number of features\n",
    "    #y target values, array(m,)\n",
    "    #w:model parameter, array(n,)\n",
    "    #b:model parameter, Scalar\n",
    "    #landa: regularization parameter\n",
    "    m=x.shape[0]\n",
    "    cost=(1/m)*(-np.dot(y,np.log(sigmoid(np.matmul(x,w)+b)))-np.dot((1-y),np.log(1-sigmoid(np.matmul(x,w)+b))))\n",
    "    cost=cost+(landa/(2*m))*np.sum(np.square(w))\n",
    "    return cost\n",
    "    "
   ]
  },
  {
   "cell_type": "code",
   "execution_count": 13,
   "id": "13be3dda",
   "metadata": {},
   "outputs": [],
   "source": [
    "#gradiend descent with regularization\n",
    "def update_w_b(x,y,w_initial,b_initial,alpha,num_iter,landa):\n",
    "    #x input features, ndarray(m,n) m:number of training examples n:number of features\n",
    "    #y target values, array(m,)\n",
    "    #w:model parameter, array(n,)\n",
    "    #b:model parameter, Scalar\n",
    "    #landa: regularization parameter\n",
    "    m,n=x.shape\n",
    "    w=w_initial;b=b_initial;\n",
    "    cost_history=[];\n",
    "    for i in range(num_iter):\n",
    "        dj_dw=(1/m)*np.matmul(np.transpose(sigmoid(np.matmul(x,w)+b)-y),x)+(landa/m)*w\n",
    "        dj_db=np.mean(sigmoid(np.matmul(x,w)+b)-y)\n",
    "        w=w-alpha*dj_dw\n",
    "        b=b-alpha*dj_db\n",
    "        cost=cost_function(x,y,w,b,landa)\n",
    "        cost_history.append(cost)\n",
    "    return w,b,cost_history    "
   ]
  },
  {
   "cell_type": "code",
   "execution_count": 14,
   "id": "9a614132",
   "metadata": {},
   "outputs": [],
   "source": [
    "m,n=x_mapped_scaled.shape\n",
    "w_initial=np.zeros(n);b_initial=0;alpha=0.5;num_iter=300;landa=5\n",
    "w,b,cost_history=update_w_b(x_mapped_scaled,y_train,w_initial,b_initial,alpha,num_iter,landa)"
   ]
  },
  {
   "cell_type": "code",
   "execution_count": 15,
   "id": "a0c8e368",
   "metadata": {},
   "outputs": [
    {
     "data": {
      "text/plain": [
       "[<matplotlib.lines.Line2D at 0x20079965310>]"
      ]
     },
     "execution_count": 15,
     "metadata": {},
     "output_type": "execute_result"
    },
    {
     "data": {
      "image/png": "[encoded data removed]",
      "text/plain": [
       "<Figure size 432x288 with 1 Axes>"
      ]
     },
     "metadata": {
      "needs_background": "light"
     },
     "output_type": "display_data"
    }
   ],
   "source": [
    "plt.plot(np.linspace(1,num_iter,num_iter),cost_history)"
   ]
  },
  {
   "cell_type": "code",
   "execution_count": 16,
   "id": "bcea3b33",
   "metadata": {},
   "outputs": [
    {
     "name": "stdout",
     "output_type": "stream",
     "text": [
      "final w and b are w:[ 0.39857987  0.70497895 -0.48642721 -0.4492844  -0.49773346  0.20832793\n",
      "  0.14302398 -0.01065539  0.12532087 -0.53426854 -0.06954622 -0.24350348\n",
      " -0.1909036  -0.50547839 -0.04815865 -0.03174284  0.22316052 -0.12867148\n",
      " -0.21243289 -0.12622592 -0.47801313  0.02970331 -0.25444134  0.09497696\n",
      " -0.34396656 -0.13501133 -0.4004872 ], b:-0.27903346163588905 and final cost is:0.4461105946849737\n"
     ]
    }
   ],
   "source": [
    "print(f'final w and b are w:{w}, b:{b} and final cost is:{cost_history[num_iter-1]}')"
   ]
  },
  {
   "cell_type": "code",
   "execution_count": 17,
   "id": "36523f98",
   "metadata": {},
   "outputs": [],
   "source": [
    "def predict(x,w,b):\n",
    "    y_predict=(sigmoid(np.matmul(x,w)+b)>=0.5).astype('int')\n",
    "    return y_predict"
   ]
  },
  {
   "cell_type": "code",
   "execution_count": 18,
   "id": "5c40b9e7",
   "metadata": {},
   "outputs": [],
   "source": [
    "y_predict=predict(x_mapped_scaled,w,b)"
   ]
  },
  {
   "cell_type": "code",
   "execution_count": 19,
   "id": "cbe1e732",
   "metadata": {},
   "outputs": [],
   "source": [
    "#plot decision boundary\n",
    "min_1=min(x_train[:,0]);max_1=max(x_train[:,0])\n",
    "min_2=min(x_train[:,1]);max_2=max(x_train[:,1])\n",
    "u=np.stack((np.linspace(min_1,max_1,200),np.linspace(min_2,max_2,200)),axis=1) \n",
    "#200 points are chosen between min and max of x_train\n",
    "#u_mapped,count=map_feature(u[:,0],u[:,1],6) #these points should be mapped to desire features\n",
    "#u_mapped_scaled=(u_mapped-mu)/sigma #then they should be transformed using the same mu and sigma\n",
    "z = np.zeros((200, 200))\n",
    "for i in range (200):\n",
    "    for j in range (200):\n",
    "        u_mapped,count=map_feature(u[i,0],u[j,1],6)\n",
    "        u_mapped_scaled=(u_mapped-mu)/sigma\n",
    "        z[i,j]=sigmoid(np.matmul(u_mapped_scaled,w)+b)"
   ]
  },
  {
   "cell_type": "code",
   "execution_count": 20,
   "id": "7c6bcf93",
   "metadata": {},
   "outputs": [],
   "source": [
    "u_mapped,count=map_feature(u[:,0],u[:,1],6) #these points should be mapped to desire features\n",
    "u_mapped_scaled=(u_mapped-mu)/sigma #then they should be transformed using the same mu and sigma\n"
   ]
  },
  {
   "cell_type": "code",
   "execution_count": 21,
   "id": "3f99c46a",
   "metadata": {},
   "outputs": [
    {
     "data": {
      "text/plain": [
       "<matplotlib.collections.PathCollection at 0x200799daf70>"
      ]
     },
     "execution_count": 21,
     "metadata": {},
     "output_type": "execute_result"
    },
    {
     "data": {
      "image/png": "[encoded data removed]",
      "text/plain": [
       "<Figure size 432x288 with 1 Axes>"
      ]
     },
     "metadata": {
      "needs_background": "light"
     },
     "output_type": "display_data"
    }
   ],
   "source": [
    "plt.contour(u_mapped_scaled[:,0],u_mapped_scaled[:,1],z, levels = [0.5], colors=\"g\")\n",
    "plt.scatter((x_train[positive,0]-mu[0,0])/sigma[0,0],(x_train[positive,1]-mu[0,1])/sigma[0,1],marker='+',color='r')\n",
    "plt.scatter((x_train[negative,0]-mu[0,0])/sigma[0,0],(x_train[negative,1]-mu[0,1])/sigma[0,1],marker='+',color='b')"
   ]
  },
  {
   "cell_type": "code",
   "execution_count": 22,
   "id": "48e2f6bc",
   "metadata": {},
   "outputs": [
    {
     "name": "stdout",
     "output_type": "stream",
     "text": [
      "83.89830508474576\n"
     ]
    }
   ],
   "source": [
    "Accuracy=np.sum((y_predict==y_train).astype('int'))*100/len(y_train)\n",
    "print(Accuracy)"
   ]
  },
  {
   "cell_type": "code",
   "execution_count": 23,
   "id": "17e60750",
   "metadata": {},
   "outputs": [],
   "source": [
    "df.insert(3,\"predicted positive or negative\",y_predict) #adding the prediction column"
   ]
  },
  {
   "cell_type": "code",
   "execution_count": 24,
   "id": "0607f020",
   "metadata": {},
   "outputs": [
    {
     "data": {
      "text/html": [
       "<div>\n",
       "<style scoped>\n",
       "    .dataframe tbody tr th:only-of-type {\n",
       "        vertical-align: middle;\n",
       "    }\n",
       "\n",
       "    .dataframe tbody tr th {\n",
       "        vertical-align: top;\n",
       "    }\n",
       "\n",
       "    .dataframe thead th {\n",
       "        text-align: right;\n",
       "    }\n",
       "</style>\n",
       "<table border=\"1\" class=\"dataframe\">\n",
       "  <thead>\n",
       "    <tr style=\"text-align: right;\">\n",
       "      <th></th>\n",
       "      <th>feature1</th>\n",
       "      <th>feature2</th>\n",
       "      <th>positive or negative</th>\n",
       "      <th>predicted positive or negative</th>\n",
       "    </tr>\n",
       "  </thead>\n",
       "  <tbody>\n",
       "    <tr>\n",
       "      <th>0</th>\n",
       "      <td>0.051267</td>\n",
       "      <td>0.699560</td>\n",
       "      <td>positive</td>\n",
       "      <td>positive</td>\n",
       "    </tr>\n",
       "    <tr>\n",
       "      <th>1</th>\n",
       "      <td>-0.092742</td>\n",
       "      <td>0.684940</td>\n",
       "      <td>positive</td>\n",
       "      <td>positive</td>\n",
       "    </tr>\n",
       "    <tr>\n",
       "      <th>2</th>\n",
       "      <td>-0.213710</td>\n",
       "      <td>0.692250</td>\n",
       "      <td>positive</td>\n",
       "      <td>positive</td>\n",
       "    </tr>\n",
       "    <tr>\n",
       "      <th>3</th>\n",
       "      <td>-0.375000</td>\n",
       "      <td>0.502190</td>\n",
       "      <td>positive</td>\n",
       "      <td>positive</td>\n",
       "    </tr>\n",
       "    <tr>\n",
       "      <th>4</th>\n",
       "      <td>-0.513250</td>\n",
       "      <td>0.465640</td>\n",
       "      <td>positive</td>\n",
       "      <td>positive</td>\n",
       "    </tr>\n",
       "    <tr>\n",
       "      <th>5</th>\n",
       "      <td>-0.524770</td>\n",
       "      <td>0.209800</td>\n",
       "      <td>positive</td>\n",
       "      <td>positive</td>\n",
       "    </tr>\n",
       "    <tr>\n",
       "      <th>6</th>\n",
       "      <td>-0.398040</td>\n",
       "      <td>0.034357</td>\n",
       "      <td>positive</td>\n",
       "      <td>positive</td>\n",
       "    </tr>\n",
       "    <tr>\n",
       "      <th>7</th>\n",
       "      <td>-0.305880</td>\n",
       "      <td>-0.192250</td>\n",
       "      <td>positive</td>\n",
       "      <td>positive</td>\n",
       "    </tr>\n",
       "    <tr>\n",
       "      <th>8</th>\n",
       "      <td>0.016705</td>\n",
       "      <td>-0.404240</td>\n",
       "      <td>positive</td>\n",
       "      <td>positive</td>\n",
       "    </tr>\n",
       "    <tr>\n",
       "      <th>9</th>\n",
       "      <td>0.131910</td>\n",
       "      <td>-0.513890</td>\n",
       "      <td>positive</td>\n",
       "      <td>positive</td>\n",
       "    </tr>\n",
       "    <tr>\n",
       "      <th>10</th>\n",
       "      <td>0.385370</td>\n",
       "      <td>-0.565060</td>\n",
       "      <td>positive</td>\n",
       "      <td>positive</td>\n",
       "    </tr>\n",
       "  </tbody>\n",
       "</table>\n",
       "</div>"
      ],
      "text/plain": [
       "    feature1  feature2 positive or negative predicted positive or negative\n",
       "0   0.051267  0.699560             positive                       positive\n",
       "1  -0.092742  0.684940             positive                       positive\n",
       "2  -0.213710  0.692250             positive                       positive\n",
       "3  -0.375000  0.502190             positive                       positive\n",
       "4  -0.513250  0.465640             positive                       positive\n",
       "5  -0.524770  0.209800             positive                       positive\n",
       "6  -0.398040  0.034357             positive                       positive\n",
       "7  -0.305880 -0.192250             positive                       positive\n",
       "8   0.016705 -0.404240             positive                       positive\n",
       "9   0.131910 -0.513890             positive                       positive\n",
       "10  0.385370 -0.565060             positive                       positive"
      ]
     },
     "execution_count": 24,
     "metadata": {},
     "output_type": "execute_result"
    }
   ],
   "source": [
    "df[\"predicted positive or negative\"]=df[\"predicted positive or negative\"].replace([0,1],['negative','positive'])\n",
    "df.head(11)"
   ]
  },
  {
   "cell_type": "code",
   "execution_count": 25,
   "id": "3e9e24ea",
   "metadata": {},
   "outputs": [],
   "source": [
    "#Using Sickit-learn\n",
    "from sklearn.linear_model import LogisticRegression\n",
    "from sklearn.preprocessing import StandardScaler\n",
    "scale=StandardScaler()\n",
    "x_mapped_scaled_sklearn=scale.fit_transform(x_mapped)"
   ]
  },
  {
   "cell_type": "code",
   "execution_count": 26,
   "id": "d1cd931b",
   "metadata": {},
   "outputs": [
    {
     "data": {
      "text/plain": [
       "LogisticRegression()"
      ]
     },
     "execution_count": 26,
     "metadata": {},
     "output_type": "execute_result"
    }
   ],
   "source": [
    "lr_model=LogisticRegression()\n",
    "lr_model.fit(x_mapped_scaled_sklearn,y_train)"
   ]
  },
  {
   "cell_type": "code",
   "execution_count": 27,
   "id": "f8541451",
   "metadata": {},
   "outputs": [
    {
     "name": "stdout",
     "output_type": "stream",
     "text": [
      "Accuracy= 83.05084745762711\n"
     ]
    }
   ],
   "source": [
    "print('Accuracy=',lr_model.score(x_mapped_scaled_sklearn,y_train)*100)"
   ]
  }
 ],
 "metadata": {
  "kernelspec": {
   "display_name": "Python 3 (ipykernel)",
   "language": "python",
   "name": "python3"
  },
  "language_info": {
   "codemirror_mode": {
    "name": "ipython",
    "version": 3
   },
   "file_extension": ".py",
   "mimetype": "text/x-python",
   "name": "python",
   "nbconvert_exporter": "python",
   "pygments_lexer": "ipython3",
   "version": "3.9.7"
  }
 },
 "nbformat": 4,
 "nbformat_minor": 5
}
