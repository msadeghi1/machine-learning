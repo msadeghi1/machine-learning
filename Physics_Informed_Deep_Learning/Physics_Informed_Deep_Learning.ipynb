{
 "cells": [
  {
   "cell_type": "code",
   "execution_count": 1,
   "id": "1b22d7d7",
   "metadata": {},
   "outputs": [],
   "source": [
    "#Physics Informed Machine Learning code to solve the differential equation \n",
    "#Written by Morteza Sadehi, morteza.sadeghi@mat.ethz.ch\n",
    "import tensorflow as tf\n",
    "import numpy as np\n",
    "import matplotlib.pyplot as plt\n",
    "import copy"
   ]
  },
  {
   "cell_type": "code",
   "execution_count": 2,
   "id": "ad7ed7fa",
   "metadata": {},
   "outputs": [],
   "source": [
    "class PINN(tf.keras.Model):\n",
    "    def __init__(self, input_dim, hidden_dim, output_dim):\n",
    "        super(PINN, self).__init__()\n",
    "\n",
    "        # Define the input layer\n",
    "        self.input_layer = tf.keras.layers.InputLayer(input_shape=(input_dim,), dtype=tf.float32)\n",
    "\n",
    "        # Define the hidden layers\n",
    "        self.hidden_layers = []\n",
    "        for i in range(len(hidden_dim)):\n",
    "            self.hidden_layers.append(tf.keras.layers.Dense(hidden_dim[i], activation='tanh'))\n",
    "\n",
    "        # Define the output layer\n",
    "        self.output_layer = tf.keras.layers.Dense(output_dim)\n",
    "        \n",
    "    def call(self, X):\n",
    "        x = self.input_layer(X)\n",
    "        for layer in self.hidden_layers:\n",
    "            x = layer(x)\n",
    "        output = self.output_layer(x)\n",
    "        return output"
   ]
  },
  {
   "cell_type": "code",
   "execution_count": 3,
   "id": "1e9f511f",
   "metadata": {},
   "outputs": [],
   "source": [
    "def loss(x,model):\n",
    "    with tf.GradientTape() as tape:\n",
    "        # Watch input variables\n",
    "        tape.watch(x)\n",
    "        y=model.call(x)\n",
    "        \n",
    "    dy_dx = tape.gradient(y, x)\n",
    "\n",
    "    \n",
    "    residual=dy_dx-x\n",
    "    loss=tf.reduce_mean(tf.square(residual))\n",
    "    return loss"
   ]
  },
  {
   "cell_type": "code",
   "execution_count": 4,
   "id": "19391aa5",
   "metadata": {},
   "outputs": [],
   "source": [
    "def boundary_loss(x_bc, model, y_bc):\n",
    "    y_pred = model.call(x_bc)\n",
    "    bc_loss = tf.reduce_mean(tf.square(y_pred - y_bc))\n",
    "    return bc_loss"
   ]
  },
  {
   "cell_type": "code",
   "execution_count": 5,
   "id": "98b860e0",
   "metadata": {},
   "outputs": [],
   "source": [
    "input_dim = 1\n",
    "hidden_dim = [64,64,64]\n",
    "output_dim = 1\n",
    "model = PINN(input_dim, hidden_dim, output_dim)"
   ]
  },
  {
   "cell_type": "code",
   "execution_count": 6,
   "id": "3bb3a38f",
   "metadata": {},
   "outputs": [],
   "source": [
    "x_min, x_max = 0.0, 1.0\n",
    "N = 150\n",
    "x = tf.linspace(x_min, x_max, N)\n",
    "x=tf.expand_dims(x,axis=1)"
   ]
  },
  {
   "cell_type": "code",
   "execution_count": 9,
   "id": "7c2b0989",
   "metadata": {
    "scrolled": false
   },
   "outputs": [
    {
     "name": "stdout",
     "output_type": "stream",
     "text": [
      "tf.Tensor(0.0, shape=(), dtype=float32)\n"
     ]
    }
   ],
   "source": [
    "x_bc=np.array([[0]]); y_bc=0"
   ]
  },
  {
   "cell_type": "code",
   "execution_count": 10,
   "id": "5a8bf43f",
   "metadata": {},
   "outputs": [],
   "source": [
    "def train(x,model,x_bc,y_bc):\n",
    "    with tf.GradientTape() as tape:\n",
    "        cost=loss(x,model)\n",
    "        cost+=boundary_loss(x_bc, model, y_bc)\n",
    "        \n",
    "    \n",
    "    gradients = tape.gradient(cost, model.trainable_variables) \n",
    "    optimizer = tf.keras.optimizers.Adam()\n",
    "    optimizer.apply_gradients(zip(gradients, model.trainable_variables))\n",
    "    \n",
    "    return cost"
   ]
  },
  {
   "cell_type": "code",
   "execution_count": 11,
   "id": "3cdc2bee",
   "metadata": {},
   "outputs": [
    {
     "name": "stdout",
     "output_type": "stream",
     "text": [
      "Epoch 0, loss = 0.377168\n",
      "Epoch 1000, loss = 0.015178\n",
      "Epoch 2000, loss = 0.010481\n",
      "Epoch 3000, loss = 0.008396\n",
      "Epoch 4000, loss = 0.007748\n",
      "Epoch 5000, loss = 0.006765\n",
      "Epoch 6000, loss = 0.006312\n",
      "Epoch 7000, loss = 0.005775\n",
      "Epoch 8000, loss = 0.004742\n",
      "Epoch 9000, loss = 0.004605\n",
      "Epoch 10000, loss = 0.004170\n",
      "Epoch 11000, loss = 0.003995\n",
      "Epoch 12000, loss = 0.003601\n",
      "Epoch 13000, loss = 0.003172\n",
      "Epoch 14000, loss = 0.003403\n",
      "Epoch 15000, loss = 0.003312\n",
      "Epoch 16000, loss = 0.002775\n",
      "Epoch 17000, loss = 0.002741\n",
      "Epoch 18000, loss = 0.002703\n",
      "Epoch 19000, loss = 0.002484\n",
      "Epoch 20000, loss = 0.002064\n",
      "Epoch 21000, loss = 0.002404\n",
      "Epoch 22000, loss = 0.002022\n",
      "Epoch 23000, loss = 0.001621\n",
      "Epoch 24000, loss = 0.001891\n",
      "Epoch 25000, loss = 0.001778\n",
      "Epoch 26000, loss = 0.001794\n",
      "Epoch 27000, loss = 0.001671\n",
      "Epoch 28000, loss = 0.001557\n",
      "Epoch 29000, loss = 0.001558\n",
      "Epoch 30000, loss = 0.001547\n",
      "Epoch 31000, loss = 0.001565\n",
      "Epoch 32000, loss = 0.001785\n",
      "Epoch 33000, loss = 0.001493\n",
      "Epoch 34000, loss = 0.001207\n",
      "Epoch 35000, loss = 0.001346\n",
      "Epoch 36000, loss = 0.001547\n",
      "Epoch 37000, loss = 0.001570\n",
      "Epoch 38000, loss = 0.001242\n",
      "Epoch 39000, loss = 0.001436\n",
      "Epoch 40000, loss = 0.001642\n",
      "Epoch 41000, loss = 0.001312\n",
      "Epoch 42000, loss = 0.001331\n",
      "Epoch 43000, loss = 0.001432\n",
      "Epoch 44000, loss = 0.001275\n",
      "Epoch 45000, loss = 0.001221\n",
      "Epoch 46000, loss = 0.001081\n",
      "Epoch 47000, loss = 0.001160\n",
      "Epoch 48000, loss = 0.001014\n",
      "Epoch 49000, loss = 0.001158\n"
     ]
    }
   ],
   "source": [
    "num_epochs = 50000\n",
    "for epoch in range(num_epochs):\n",
    "    cost = train(x,model,x_bc,y_bc)\n",
    "    if epoch % 1000 == 0:\n",
    "        print(f\"Epoch {epoch}, loss = {cost.numpy():.6f}\")"
   ]
  },
  {
   "cell_type": "code",
   "execution_count": 12,
   "id": "5f19ebac",
   "metadata": {},
   "outputs": [],
   "source": [
    "y_pred =model.call(x).numpy()"
   ]
  },
  {
   "cell_type": "code",
   "execution_count": 13,
   "id": "912cbab8",
   "metadata": {},
   "outputs": [],
   "source": [
    "y_exact = np.zeros((N,))\n",
    "\n",
    "for i in range(N):\n",
    "        y_exact[i,] =x[i]**2/2"
   ]
  },
  {
   "cell_type": "code",
   "execution_count": 21,
   "id": "3c1c4f5c",
   "metadata": {},
   "outputs": [
    {
     "data": {
      "text/plain": [
       "Text(0, 0.5, 'y values')"
      ]
     },
     "execution_count": 21,
     "metadata": {},
     "output_type": "execute_result"
    },
    {
     "data": {
      "image/png": "[encoded data removed]",
      "text/plain": [
       "<Figure size 432x288 with 1 Axes>"
      ]
     },
     "metadata": {
      "needs_background": "light"
     },
     "output_type": "display_data"
    }
   ],
   "source": [
    "plt.plot(x,y_pred,color='r',label='predicted')\n",
    "plt.plot(x,y_exact,color='b',label='exact')\n",
    "plt.legend\n",
    "plt.title('comparision between predicted and exact values')\n",
    "plt.legend(loc='upper left')\n",
    "plt.xlabel('x values')\n",
    "plt.ylabel('y values')"
   ]
  },
  {
   "cell_type": "code",
   "execution_count": 15,
   "id": "962c8312",
   "metadata": {},
   "outputs": [
    {
     "name": "stdout",
     "output_type": "stream",
     "text": [
      "tf.Tensor(0.0012006565, shape=(), dtype=float32)\n"
     ]
    }
   ],
   "source": [
    "out=loss(x,model)\n",
    "print(out)"
   ]
  },
  {
   "cell_type": "code",
   "execution_count": null,
   "id": "9787b548",
   "metadata": {},
   "outputs": [],
   "source": []
  }
 ],
 "metadata": {
  "kernelspec": {
   "display_name": "Python 3 (ipykernel)",
   "language": "python",
   "name": "python3"
  },
  "language_info": {
   "codemirror_mode": {
    "name": "ipython",
    "version": 3
   },
   "file_extension": ".py",
   "mimetype": "text/x-python",
   "name": "python",
   "nbconvert_exporter": "python",
   "pygments_lexer": "ipython3",
   "version": "3.9.7"
  }
 },
 "nbformat": 4,
 "nbformat_minor": 5
}
