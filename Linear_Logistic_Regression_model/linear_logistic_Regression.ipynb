{
 "cells": [
  {
   "cell_type": "code",
   "execution_count": 1,
   "id": "a2a9f8a0",
   "metadata": {},
   "outputs": [],
   "source": [
    "import numpy as np\n",
    "import matplotlib.pyplot as plt\n",
    "import pandas as pd"
   ]
  },
  {
   "cell_type": "code",
   "execution_count": 2,
   "id": "244c0a88",
   "metadata": {},
   "outputs": [],
   "source": [
    "data=pd.read_csv(\"Data.csv\")\n",
    "x_train=np.array(data[['Exam_1','Exam_2']].astype('float'));y_train=np.array(data['admission situation'].astype('int'))\n",
    "data['admission situation']=data['admission situation'].replace([0.0,1.0],['rejected','admitted'])"
   ]
  },
  {
   "cell_type": "code",
   "execution_count": 3,
   "id": "d26d7c54",
   "metadata": {},
   "outputs": [
    {
     "data": {
      "text/html": [
       "<div>\n",
       "<style scoped>\n",
       "    .dataframe tbody tr th:only-of-type {\n",
       "        vertical-align: middle;\n",
       "    }\n",
       "\n",
       "    .dataframe tbody tr th {\n",
       "        vertical-align: top;\n",
       "    }\n",
       "\n",
       "    .dataframe thead th {\n",
       "        text-align: right;\n",
       "    }\n",
       "</style>\n",
       "<table border=\"1\" class=\"dataframe\">\n",
       "  <thead>\n",
       "    <tr style=\"text-align: right;\">\n",
       "      <th></th>\n",
       "      <th>Exam_1</th>\n",
       "      <th>Exam_2</th>\n",
       "      <th>admission situation</th>\n",
       "    </tr>\n",
       "  </thead>\n",
       "  <tbody>\n",
       "    <tr>\n",
       "      <th>0</th>\n",
       "      <td>34.6237</td>\n",
       "      <td>78.0247</td>\n",
       "      <td>rejected</td>\n",
       "    </tr>\n",
       "    <tr>\n",
       "      <th>1</th>\n",
       "      <td>30.2867</td>\n",
       "      <td>43.8950</td>\n",
       "      <td>rejected</td>\n",
       "    </tr>\n",
       "    <tr>\n",
       "      <th>2</th>\n",
       "      <td>35.8474</td>\n",
       "      <td>72.9022</td>\n",
       "      <td>rejected</td>\n",
       "    </tr>\n",
       "    <tr>\n",
       "      <th>3</th>\n",
       "      <td>60.1826</td>\n",
       "      <td>86.3086</td>\n",
       "      <td>admitted</td>\n",
       "    </tr>\n",
       "    <tr>\n",
       "      <th>4</th>\n",
       "      <td>79.0327</td>\n",
       "      <td>75.3444</td>\n",
       "      <td>admitted</td>\n",
       "    </tr>\n",
       "  </tbody>\n",
       "</table>\n",
       "</div>"
      ],
      "text/plain": [
       "    Exam_1   Exam_2 admission situation\n",
       "0  34.6237  78.0247            rejected\n",
       "1  30.2867  43.8950            rejected\n",
       "2  35.8474  72.9022            rejected\n",
       "3  60.1826  86.3086            admitted\n",
       "4  79.0327  75.3444            admitted"
      ]
     },
     "execution_count": 3,
     "metadata": {},
     "output_type": "execute_result"
    }
   ],
   "source": [
    "data.head()"
   ]
  },
  {
   "cell_type": "code",
   "execution_count": 5,
   "id": "84542d56",
   "metadata": {},
   "outputs": [],
   "source": [
    "positive=np.argwhere(y_train==1)\n",
    "negative=np.argwhere(y_train==0)"
   ]
  },
  {
   "cell_type": "code",
   "execution_count": 6,
   "id": "c13367d5",
   "metadata": {},
   "outputs": [
    {
     "data": {
      "text/plain": [
       "Text(0, 0.5, 'Exam_2 Score')"
      ]
     },
     "execution_count": 6,
     "metadata": {},
     "output_type": "execute_result"
    },
    {
     "data": {
      "image/png": "[encoded data removed]",
      "text/plain": [
       "<Figure size 432x288 with 1 Axes>"
      ]
     },
     "metadata": {
      "needs_background": "light"
     },
     "output_type": "display_data"
    }
   ],
   "source": [
    "plt.scatter(x_train[positive,0],x_train[positive,1],color='r',marker='*',label='admitted')\n",
    "plt.scatter(x_train[negative,0],x_train[negative,1],color='b',marker='o',label='rejected')\n",
    "plt.legend(loc='lower right')\n",
    "plt.xlabel('Exam_1 Score')\n",
    "plt.ylabel('Exam_2 Score')"
   ]
  },
  {
   "cell_type": "code",
   "execution_count": 7,
   "id": "8dd30f56",
   "metadata": {},
   "outputs": [],
   "source": [
    "def sigmoid(x):\n",
    "    #x:ndarray (m,n) dimensional\n",
    "    sigmoid=1/(1+np.exp(-x))\n",
    "    return sigmoid"
   ]
  },
  {
   "cell_type": "code",
   "execution_count": 8,
   "id": "0884d3d3",
   "metadata": {},
   "outputs": [],
   "source": [
    "def cost_function(x,y,w,b):\n",
    "    #x input features ndarray(m,n) m:number of training examples n:number of features\n",
    "    #y target values, array(m,)\n",
    "    #w:model parameter, array(n,)\n",
    "    #b:model parameter, Scalar\n",
    "    m=x.shape[0]\n",
    "    cost=(1/m)*(-np.dot(y,np.log(sigmoid(np.matmul(x,w)+b)))-np.dot((1-y),np.log(1-sigmoid(np.matmul(x,w)+b))))\n",
    "    return cost"
   ]
  },
  {
   "cell_type": "code",
   "execution_count": 9,
   "id": "4b4599d3",
   "metadata": {},
   "outputs": [
    {
     "name": "stdout",
     "output_type": "stream",
     "text": [
      "Cost : 0.6931\n"
     ]
    }
   ],
   "source": [
    "m, n = x_train.shape\n",
    "initial_w = np.zeros(n)\n",
    "initial_b = 0.\n",
    "cost = cost_function(x_train, y_train, initial_w, initial_b)\n",
    "print('Cost : {:,.4f}'.format(cost))"
   ]
  },
  {
   "cell_type": "code",
   "execution_count": 10,
   "id": "c6c190ee",
   "metadata": {},
   "outputs": [],
   "source": [
    "def feature_scaling(x):\n",
    "    #x: input feature with shape (m,n)\n",
    "    mu=np.mean(x,axis=0,keepdims=True)\n",
    "    std=np.std(x,axis=0,keepdims=True)\n",
    "    x_scaled=(x-mu)/std\n",
    "    return mu,std,x_scaled\n"
   ]
  },
  {
   "cell_type": "code",
   "execution_count": 11,
   "id": "cf7a7796",
   "metadata": {},
   "outputs": [],
   "source": [
    "def update_w_b(x,y,w_initial,b_initial,alpha,num_iter):\n",
    "    #x input features ndarray(m,n) m:number of training examples n:number of features\n",
    "    #y target values, array(m,)\n",
    "    #w:model parameter, array(n,)\n",
    "    #b:model parameter, Scalar\n",
    "    m,n=x.shape\n",
    "    w=w_initial;b=b_initial;\n",
    "    cost_history=[];\n",
    "    for i in range(num_iter):\n",
    "        dj_dw=(1/m)*np.matmul(np.transpose(sigmoid(np.matmul(x,w)+b)-y),x)\n",
    "        dj_db=np.mean(sigmoid(np.matmul(x,w)+b)-y)\n",
    "        w=w-alpha*dj_dw\n",
    "        b=b-alpha*dj_db\n",
    "        cost=cost_function(x,y,w,b)\n",
    "        cost_history.append(cost)\n",
    "    return w,b,cost_history    "
   ]
  },
  {
   "cell_type": "code",
   "execution_count": 12,
   "id": "358c46fb",
   "metadata": {},
   "outputs": [],
   "source": [
    "mu,sigma,x_scaled=feature_scaling(x_train)\n",
    "m,n=x_scaled.shape\n",
    "w_initial=np.zeros(n);b_initial=0;alpha=1.0;num_iter=250;\n",
    "w,b,cost_history=update_w_b(x_scaled,y_train,w_initial,b_initial,alpha,num_iter)"
   ]
  },
  {
   "cell_type": "code",
   "execution_count": 13,
   "id": "85e6393e",
   "metadata": {},
   "outputs": [
    {
     "data": {
      "text/plain": [
       "[<matplotlib.lines.Line2D at 0x18d6cd37100>]"
      ]
     },
     "execution_count": 13,
     "metadata": {},
     "output_type": "execute_result"
    },
    {
     "data": {
      "image/png": "[encoded data removed]",
      "text/plain": [
       "<Figure size 432x288 with 1 Axes>"
      ]
     },
     "metadata": {
      "needs_background": "light"
     },
     "output_type": "display_data"
    }
   ],
   "source": [
    "plt.plot(np.linspace(1,num_iter,num_iter),cost_history)"
   ]
  },
  {
   "cell_type": "code",
   "execution_count": 14,
   "id": "bfb385cf",
   "metadata": {},
   "outputs": [
    {
     "name": "stdout",
     "output_type": "stream",
     "text": [
      "final w and b are w:[3.6726046  3.41539572], b:1.5679301147035016 and final cost is:0.2041863430566095\n"
     ]
    }
   ],
   "source": [
    "print(f'final w and b are w:{w}, b:{b} and final cost is:{cost_history[num_iter-1]}')"
   ]
  },
  {
   "cell_type": "code",
   "execution_count": 15,
   "id": "b43b19e1",
   "metadata": {},
   "outputs": [
    {
     "data": {
      "text/plain": [
       "Text(0, 0.5, 'Exam_2 Score')"
      ]
     },
     "execution_count": 15,
     "metadata": {},
     "output_type": "execute_result"
    },
    {
     "data": {
      "image/png": "[encoded data removed]",
      "text/plain": [
       "<Figure size 432x288 with 1 Axes>"
      ]
     },
     "metadata": {
      "needs_background": "light"
     },
     "output_type": "display_data"
    }
   ],
   "source": [
    "#print decision boundary\n",
    "x0=np.linspace(min(x_scaled[:,0]),max(x_scaled[:,0]),200)\n",
    "x1=-(b/w[1])-(w[0]*x0/w[1]);\n",
    "plt.plot(x0,x1)\n",
    "plt.scatter(x_scaled[positive,0],x_scaled[positive,1],color='r',marker='*',label='admitted')\n",
    "plt.scatter(x_scaled[negative,0],x_scaled[negative,1],color='b',marker='o',label='rejected')\n",
    "plt.legend(loc='lower right')\n",
    "plt.xlabel('Exam_1 Score')\n",
    "plt.ylabel('Exam_2 Score')"
   ]
  },
  {
   "cell_type": "code",
   "execution_count": 16,
   "id": "da868a58",
   "metadata": {},
   "outputs": [],
   "source": [
    "#Accuracy\n",
    "def predict(w,b,x):\n",
    "    A=sigmoid(np.matmul(x,w)+b)\n",
    "    y_predict=(A>0.50).astype('int')\n",
    "    return y_predict"
   ]
  },
  {
   "cell_type": "code",
   "execution_count": 17,
   "id": "6f03969d",
   "metadata": {},
   "outputs": [
    {
     "name": "stdout",
     "output_type": "stream",
     "text": [
      "89.0\n"
     ]
    }
   ],
   "source": [
    "y_predict=predict(w,b,x_scaled)\n",
    "predicted_correct=(y_predict==y_train).astype('int')\n",
    "accuracy=np.sum(predicted_correct)*100/len(predicted_correct)\n",
    "print(accuracy)"
   ]
  },
  {
   "cell_type": "code",
   "execution_count": 31,
   "id": "796d0dfe",
   "metadata": {},
   "outputs": [
    {
     "data": {
      "text/html": [
       "<div>\n",
       "<style scoped>\n",
       "    .dataframe tbody tr th:only-of-type {\n",
       "        vertical-align: middle;\n",
       "    }\n",
       "\n",
       "    .dataframe tbody tr th {\n",
       "        vertical-align: top;\n",
       "    }\n",
       "\n",
       "    .dataframe thead th {\n",
       "        text-align: right;\n",
       "    }\n",
       "</style>\n",
       "<table border=\"1\" class=\"dataframe\">\n",
       "  <thead>\n",
       "    <tr style=\"text-align: right;\">\n",
       "      <th></th>\n",
       "      <th>Exam_1</th>\n",
       "      <th>Exam_2</th>\n",
       "      <th>admission situation</th>\n",
       "      <th>predicted admission situation</th>\n",
       "    </tr>\n",
       "  </thead>\n",
       "  <tbody>\n",
       "    <tr>\n",
       "      <th>0</th>\n",
       "      <td>34.6237</td>\n",
       "      <td>78.0247</td>\n",
       "      <td>rejected</td>\n",
       "      <td>rejected</td>\n",
       "    </tr>\n",
       "    <tr>\n",
       "      <th>1</th>\n",
       "      <td>30.2867</td>\n",
       "      <td>43.8950</td>\n",
       "      <td>rejected</td>\n",
       "      <td>rejected</td>\n",
       "    </tr>\n",
       "    <tr>\n",
       "      <th>2</th>\n",
       "      <td>35.8474</td>\n",
       "      <td>72.9022</td>\n",
       "      <td>rejected</td>\n",
       "      <td>rejected</td>\n",
       "    </tr>\n",
       "    <tr>\n",
       "      <th>3</th>\n",
       "      <td>60.1826</td>\n",
       "      <td>86.3086</td>\n",
       "      <td>admitted</td>\n",
       "      <td>admitted</td>\n",
       "    </tr>\n",
       "    <tr>\n",
       "      <th>4</th>\n",
       "      <td>79.0327</td>\n",
       "      <td>75.3444</td>\n",
       "      <td>admitted</td>\n",
       "      <td>admitted</td>\n",
       "    </tr>\n",
       "    <tr>\n",
       "      <th>5</th>\n",
       "      <td>45.0833</td>\n",
       "      <td>56.3164</td>\n",
       "      <td>rejected</td>\n",
       "      <td>rejected</td>\n",
       "    </tr>\n",
       "    <tr>\n",
       "      <th>6</th>\n",
       "      <td>61.1067</td>\n",
       "      <td>96.5114</td>\n",
       "      <td>admitted</td>\n",
       "      <td>admitted</td>\n",
       "    </tr>\n",
       "    <tr>\n",
       "      <th>7</th>\n",
       "      <td>75.0247</td>\n",
       "      <td>46.5540</td>\n",
       "      <td>admitted</td>\n",
       "      <td>rejected</td>\n",
       "    </tr>\n",
       "    <tr>\n",
       "      <th>8</th>\n",
       "      <td>76.0988</td>\n",
       "      <td>87.4206</td>\n",
       "      <td>admitted</td>\n",
       "      <td>admitted</td>\n",
       "    </tr>\n",
       "    <tr>\n",
       "      <th>9</th>\n",
       "      <td>84.4328</td>\n",
       "      <td>43.5334</td>\n",
       "      <td>admitted</td>\n",
       "      <td>admitted</td>\n",
       "    </tr>\n",
       "    <tr>\n",
       "      <th>10</th>\n",
       "      <td>95.8616</td>\n",
       "      <td>38.2253</td>\n",
       "      <td>rejected</td>\n",
       "      <td>admitted</td>\n",
       "    </tr>\n",
       "  </tbody>\n",
       "</table>\n",
       "</div>"
      ],
      "text/plain": [
       "     Exam_1   Exam_2 admission situation predicted admission situation\n",
       "0   34.6237  78.0247            rejected                      rejected\n",
       "1   30.2867  43.8950            rejected                      rejected\n",
       "2   35.8474  72.9022            rejected                      rejected\n",
       "3   60.1826  86.3086            admitted                      admitted\n",
       "4   79.0327  75.3444            admitted                      admitted\n",
       "5   45.0833  56.3164            rejected                      rejected\n",
       "6   61.1067  96.5114            admitted                      admitted\n",
       "7   75.0247  46.5540            admitted                      rejected\n",
       "8   76.0988  87.4206            admitted                      admitted\n",
       "9   84.4328  43.5334            admitted                      admitted\n",
       "10  95.8616  38.2253            rejected                      admitted"
      ]
     },
     "execution_count": 31,
     "metadata": {},
     "output_type": "execute_result"
    }
   ],
   "source": [
    "df=pd.DataFrame(np.concatenate((x_train,np.expand_dims(y_train,axis=1),np.expand_dims(y_predict,axis=1)),axis=1),columns=['Exam_1','Exam_2','admission situation','predicted admission situation'])\n",
    "df['admission situation']=df['admission situation'].replace([0.0,1.0],['rejected','admitted'])\n",
    "df['predicted admission situation']=df['predicted admission situation'].replace([0.0,1.0],['rejected','admitted'])\n",
    "df.head(11)"
   ]
  },
  {
   "cell_type": "code",
   "execution_count": null,
   "id": "2b926639",
   "metadata": {},
   "outputs": [],
   "source": []
  }
 ],
 "metadata": {
  "kernelspec": {
   "display_name": "Python 3 (ipykernel)",
   "language": "python",
   "name": "python3"
  },
  "language_info": {
   "codemirror_mode": {
    "name": "ipython",
    "version": 3
   },
   "file_extension": ".py",
   "mimetype": "text/x-python",
   "name": "python",
   "nbconvert_exporter": "python",
   "pygments_lexer": "ipython3",
   "version": "3.9.7"
  }
 },
 "nbformat": 4,
 "nbformat_minor": 5
}
