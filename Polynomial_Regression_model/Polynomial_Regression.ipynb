{
 "cells": [
  {
   "cell_type": "code",
   "execution_count": 2,
   "id": "bda36bce",
   "metadata": {},
   "outputs": [],
   "source": [
    "import numpy as np\n",
    "import matplotlib.pyplot as plt\n",
    "import pandas as pd"
   ]
  },
  {
   "cell_type": "code",
   "execution_count": 3,
   "id": "ae428883",
   "metadata": {},
   "outputs": [],
   "source": [
    "data=np.loadtxt('Population_vs_profit.txt', dtype='float', delimiter=',')"
   ]
  },
  {
   "cell_type": "code",
   "execution_count": 5,
   "id": "9a3a674f",
   "metadata": {},
   "outputs": [],
   "source": [
    "df=pd.DataFrame(data,columns=['Population','Profit'])"
   ]
  },
  {
   "cell_type": "code",
   "execution_count": 6,
   "id": "b1d28b16",
   "metadata": {},
   "outputs": [
    {
     "data": {
      "text/html": [
       "<div>\n",
       "<style scoped>\n",
       "    .dataframe tbody tr th:only-of-type {\n",
       "        vertical-align: middle;\n",
       "    }\n",
       "\n",
       "    .dataframe tbody tr th {\n",
       "        vertical-align: top;\n",
       "    }\n",
       "\n",
       "    .dataframe thead th {\n",
       "        text-align: right;\n",
       "    }\n",
       "</style>\n",
       "<table border=\"1\" class=\"dataframe\">\n",
       "  <thead>\n",
       "    <tr style=\"text-align: right;\">\n",
       "      <th></th>\n",
       "      <th>Population</th>\n",
       "      <th>Profit</th>\n",
       "    </tr>\n",
       "  </thead>\n",
       "  <tbody>\n",
       "    <tr>\n",
       "      <th>0</th>\n",
       "      <td>6.1101</td>\n",
       "      <td>17.5920</td>\n",
       "    </tr>\n",
       "    <tr>\n",
       "      <th>1</th>\n",
       "      <td>5.5277</td>\n",
       "      <td>9.1302</td>\n",
       "    </tr>\n",
       "    <tr>\n",
       "      <th>2</th>\n",
       "      <td>8.5186</td>\n",
       "      <td>13.6620</td>\n",
       "    </tr>\n",
       "    <tr>\n",
       "      <th>3</th>\n",
       "      <td>7.0032</td>\n",
       "      <td>11.8540</td>\n",
       "    </tr>\n",
       "    <tr>\n",
       "      <th>4</th>\n",
       "      <td>5.8598</td>\n",
       "      <td>6.8233</td>\n",
       "    </tr>\n",
       "  </tbody>\n",
       "</table>\n",
       "</div>"
      ],
      "text/plain": [
       "   Population   Profit\n",
       "0      6.1101  17.5920\n",
       "1      5.5277   9.1302\n",
       "2      8.5186  13.6620\n",
       "3      7.0032  11.8540\n",
       "4      5.8598   6.8233"
      ]
     },
     "execution_count": 6,
     "metadata": {},
     "output_type": "execute_result"
    }
   ],
   "source": [
    "df.head()"
   ]
  },
  {
   "cell_type": "code",
   "execution_count": 7,
   "id": "1e37e88e",
   "metadata": {},
   "outputs": [],
   "source": [
    "x_train=data[:,0];y_train=data[:,1]"
   ]
  },
  {
   "cell_type": "code",
   "execution_count": 8,
   "id": "9c883d42",
   "metadata": {},
   "outputs": [
    {
     "data": {
      "text/plain": [
       "<matplotlib.collections.PathCollection at 0x1406f26df40>"
      ]
     },
     "execution_count": 8,
     "metadata": {},
     "output_type": "execute_result"
    },
    {
     "data": {
      "image/png": "[encoded data removed]",
      "text/plain": [
       "<Figure size 432x288 with 1 Axes>"
      ]
     },
     "metadata": {
      "needs_background": "light"
     },
     "output_type": "display_data"
    }
   ],
   "source": [
    "fig=plt.figure()\n",
    "ax=fig.add_subplot()\n",
    "ax.scatter(x_train,y_train,marker='*',color='r')"
   ]
  },
  {
   "cell_type": "code",
   "execution_count": 9,
   "id": "5ec41afb",
   "metadata": {},
   "outputs": [],
   "source": [
    "x_train_=np.reshape(x_train,(-1,1))"
   ]
  },
  {
   "cell_type": "code",
   "execution_count": 11,
   "id": "6092f12a",
   "metadata": {},
   "outputs": [],
   "source": [
    "#add polynomial features up to fourth order\n",
    "x_new=np.concatenate((x_train_,x_train_**2,x_train_**3,x_train_**4),axis=1)"
   ]
  },
  {
   "cell_type": "code",
   "execution_count": 12,
   "id": "e1143587",
   "metadata": {},
   "outputs": [],
   "source": [
    "#Using sickit-learn\n",
    "from sklearn.preprocessing import StandardScaler\n",
    "from sklearn.linear_model import SGDRegressor "
   ]
  },
  {
   "cell_type": "code",
   "execution_count": 13,
   "id": "eed80bd9",
   "metadata": {},
   "outputs": [
    {
     "name": "stdout",
     "output_type": "stream",
     "text": [
      "SGDRegressor(max_iter=10000)\n"
     ]
    }
   ],
   "source": [
    "scaler=StandardScaler()\n",
    "x_scaled=scaler.fit_transform(x_new)\n",
    "sgdr=SGDRegressor(max_iter=10000)\n",
    "sgdr.fit(x_scaled,y_train)\n",
    "print(sgdr)"
   ]
  },
  {
   "cell_type": "code",
   "execution_count": 14,
   "id": "391a88fb",
   "metadata": {},
   "outputs": [
    {
     "name": "stdout",
     "output_type": "stream",
     "text": [
      "number of iterations completed: 99, number of weight updates: 9604.0\n"
     ]
    }
   ],
   "source": [
    "print(f\"number of iterations completed: {sgdr.n_iter_}, number of weight updates: {sgdr.t_}\")"
   ]
  },
  {
   "cell_type": "code",
   "execution_count": 15,
   "id": "4bd3a58a",
   "metadata": {},
   "outputs": [
    {
     "name": "stdout",
     "output_type": "stream",
     "text": [
      "model parameters:                   w: [ 2.9185819   1.51813219  0.43660947 -0.31574473], b:[5.83949308]\n"
     ]
    }
   ],
   "source": [
    "b_sklearn=sgdr.intercept_;w_sklearn=sgdr.coef_\n",
    "print(f\"model parameters:                   w: {w_sklearn}, b:{b_sklearn}\")"
   ]
  },
  {
   "cell_type": "code",
   "execution_count": 16,
   "id": "884b74d0",
   "metadata": {},
   "outputs": [],
   "source": [
    "y_pred_sgdr = sgdr.predict(x_scaled)"
   ]
  },
  {
   "cell_type": "code",
   "execution_count": 17,
   "id": "d9ab4540",
   "metadata": {},
   "outputs": [
    {
     "data": {
      "text/html": [
       "<div>\n",
       "<style scoped>\n",
       "    .dataframe tbody tr th:only-of-type {\n",
       "        vertical-align: middle;\n",
       "    }\n",
       "\n",
       "    .dataframe tbody tr th {\n",
       "        vertical-align: top;\n",
       "    }\n",
       "\n",
       "    .dataframe thead th {\n",
       "        text-align: right;\n",
       "    }\n",
       "</style>\n",
       "<table border=\"1\" class=\"dataframe\">\n",
       "  <thead>\n",
       "    <tr style=\"text-align: right;\">\n",
       "      <th></th>\n",
       "      <th>Population</th>\n",
       "      <th>Profit</th>\n",
       "      <th>Predicted_profit</th>\n",
       "    </tr>\n",
       "  </thead>\n",
       "  <tbody>\n",
       "    <tr>\n",
       "      <th>0</th>\n",
       "      <td>6.1101</td>\n",
       "      <td>17.5920</td>\n",
       "      <td>3.520287</td>\n",
       "    </tr>\n",
       "    <tr>\n",
       "      <th>1</th>\n",
       "      <td>5.5277</td>\n",
       "      <td>9.1302</td>\n",
       "      <td>2.961715</td>\n",
       "    </tr>\n",
       "    <tr>\n",
       "      <th>2</th>\n",
       "      <td>8.5186</td>\n",
       "      <td>13.6620</td>\n",
       "      <td>5.961326</td>\n",
       "    </tr>\n",
       "    <tr>\n",
       "      <th>3</th>\n",
       "      <td>7.0032</td>\n",
       "      <td>11.8540</td>\n",
       "      <td>4.400799</td>\n",
       "    </tr>\n",
       "    <tr>\n",
       "      <th>4</th>\n",
       "      <td>5.8598</td>\n",
       "      <td>6.8233</td>\n",
       "      <td>3.278720</td>\n",
       "    </tr>\n",
       "    <tr>\n",
       "      <th>5</th>\n",
       "      <td>8.3829</td>\n",
       "      <td>11.8860</td>\n",
       "      <td>5.818178</td>\n",
       "    </tr>\n",
       "    <tr>\n",
       "      <th>6</th>\n",
       "      <td>7.4764</td>\n",
       "      <td>4.3483</td>\n",
       "      <td>4.879107</td>\n",
       "    </tr>\n",
       "    <tr>\n",
       "      <th>7</th>\n",
       "      <td>8.5781</td>\n",
       "      <td>12.0000</td>\n",
       "      <td>6.024303</td>\n",
       "    </tr>\n",
       "    <tr>\n",
       "      <th>8</th>\n",
       "      <td>6.4862</td>\n",
       "      <td>6.5987</td>\n",
       "      <td>3.887546</td>\n",
       "    </tr>\n",
       "    <tr>\n",
       "      <th>9</th>\n",
       "      <td>5.0546</td>\n",
       "      <td>3.8166</td>\n",
       "      <td>2.517010</td>\n",
       "    </tr>\n",
       "    <tr>\n",
       "      <th>10</th>\n",
       "      <td>5.7107</td>\n",
       "      <td>3.2522</td>\n",
       "      <td>3.135903</td>\n",
       "    </tr>\n",
       "  </tbody>\n",
       "</table>\n",
       "</div>"
      ],
      "text/plain": [
       "    Population   Profit  Predicted_profit\n",
       "0       6.1101  17.5920          3.520287\n",
       "1       5.5277   9.1302          2.961715\n",
       "2       8.5186  13.6620          5.961326\n",
       "3       7.0032  11.8540          4.400799\n",
       "4       5.8598   6.8233          3.278720\n",
       "5       8.3829  11.8860          5.818178\n",
       "6       7.4764   4.3483          4.879107\n",
       "7       8.5781  12.0000          6.024303\n",
       "8       6.4862   6.5987          3.887546\n",
       "9       5.0546   3.8166          2.517010\n",
       "10      5.7107   3.2522          3.135903"
      ]
     },
     "execution_count": 17,
     "metadata": {},
     "output_type": "execute_result"
    }
   ],
   "source": [
    "df_2=pd.DataFrame(np.concatenate((np.expand_dims(x_train,axis=1),np.expand_dims(y_train,axis=1),np.expand_dims(y_pred_sgdr,axis=1),),axis=1),columns=['Population','Profit','Predicted_profit'])\n",
    "df_2.head(11)"
   ]
  },
  {
   "cell_type": "code",
   "execution_count": 18,
   "id": "ce037ea4",
   "metadata": {},
   "outputs": [
    {
     "data": {
      "text/plain": [
       "<matplotlib.collections.PathCollection at 0x140716efeb0>"
      ]
     },
     "execution_count": 18,
     "metadata": {},
     "output_type": "execute_result"
    },
    {
     "data": {
      "image/png": "[encoded data removed]",
      "text/plain": [
       "<Figure size 432x288 with 1 Axes>"
      ]
     },
     "metadata": {
      "needs_background": "light"
     },
     "output_type": "display_data"
    }
   ],
   "source": [
    "fig=plt.figure()\n",
    "ax=fig.add_subplot()\n",
    "ax.scatter(x_train,y_pred_sgdr,marker='*',color='r')\n",
    "ax.scatter(x_train,y_train,marker='o',color='b')\n",
    "#plt.show()"
   ]
  }
 ],
 "metadata": {
  "kernelspec": {
   "display_name": "Python 3 (ipykernel)",
   "language": "python",
   "name": "python3"
  },
  "language_info": {
   "codemirror_mode": {
    "name": "ipython",
    "version": 3
   },
   "file_extension": ".py",
   "mimetype": "text/x-python",
   "name": "python",
   "nbconvert_exporter": "python",
   "pygments_lexer": "ipython3",
   "version": "3.9.7"
  }
 },
 "nbformat": 4,
 "nbformat_minor": 5
}
