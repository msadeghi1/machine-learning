{
 "cells": [
  {
   "cell_type": "code",
   "execution_count": 1,
   "id": "68397b5e",
   "metadata": {},
   "outputs": [],
   "source": [
    "import numpy as np\n",
    "import matplotlib.pyplot as plt\n",
    "import pandas as pd\n",
    "import copy\n",
    "import h5py"
   ]
  },
  {
   "cell_type": "code",
   "execution_count": 2,
   "id": "7e2b1aeb",
   "metadata": {},
   "outputs": [],
   "source": [
    "x_train_original = np.array(h5py.File('train_catvnoncat.h5', \"r\")['train_set_x'])\n",
    "y_train_original = np.array(h5py.File('train_catvnoncat.h5', \"r\")['train_set_y'])\n",
    "\n",
    "x_test_original = np.array(h5py.File('test_catvnoncat.h5', \"r\")['test_set_x'])\n",
    "y_test_original = np.array(h5py.File('test_catvnoncat.h5', \"r\")['test_set_y'])"
   ]
  },
  {
   "cell_type": "code",
   "execution_count": 3,
   "id": "cae040bb",
   "metadata": {},
   "outputs": [],
   "source": [
    "num_pic_train=x_train_original.shape[0]\n",
    "quality_pic_train=x_train_original.shape[1]\n",
    "\n",
    "num_pic_test=x_test_original.shape[0]\n",
    "quality_pic_test=x_test_original.shape[1]"
   ]
  },
  {
   "cell_type": "code",
   "execution_count": 4,
   "id": "f424059e",
   "metadata": {},
   "outputs": [],
   "source": [
    "x_train=np.zeros(((quality_pic_train**2)*3,num_pic_train))\n",
    "x_test=np.zeros(((quality_pic_test**2)*3,num_pic_test))\n",
    "\n",
    "for i in range(num_pic_train):x_train[:,i]=x_train_original[i,:,:,:].reshape(1,-1)\n",
    "for i in range(num_pic_test): x_test[:,i]=x_test_original[i,:,:,:].reshape(1,-1)   "
   ]
  },
  {
   "cell_type": "code",
   "execution_count": 5,
   "id": "ab4788dd",
   "metadata": {},
   "outputs": [
    {
     "name": "stdout",
     "output_type": "stream",
     "text": [
      "pictire 17 is a non-cat picture\n"
     ]
    },
    {
     "data": {
      "image/png": "[encoded data removed]",
      "text/plain": [
       "<Figure size 432x288 with 1 Axes>"
      ]
     },
     "metadata": {
      "needs_background": "light"
     },
     "output_type": "display_data"
    }
   ],
   "source": [
    "index=17;\n",
    "plt.imshow(x_train_original[index])\n",
    "if y_train_original[index]==1:\n",
    "    string='cat'\n",
    "else:\n",
    "    string=\"non-cat\"       \n",
    "print(f\"pictire {index} is a \"+string+\" picture\") "
   ]
  },
  {
   "cell_type": "code",
   "execution_count": 6,
   "id": "e80ad7ae",
   "metadata": {},
   "outputs": [],
   "source": [
    "def feature_scaling(x):\n",
    "    #x input array with shape (n,m) n:number of features m:number of training examples\n",
    "    sigma=np.std(x,axis=1,keepdims=True)\n",
    "    mu=np.mean(x,axis=1,keepdims=True)\n",
    "    x_scaled=(x-mu)/sigma\n",
    "    return mu,sigma,x_scaled"
   ]
  },
  {
   "cell_type": "code",
   "execution_count": 7,
   "id": "34a31fb5",
   "metadata": {},
   "outputs": [],
   "source": [
    "def linear_activation_function(x,linear_activation):\n",
    "        if linear_activation==\"sigmoid\":\n",
    "            z=1/(1+np.exp(-x))\n",
    "        elif linear_activation==\"relu\":\n",
    "            z=np.maximum(0,x)\n",
    "        elif linear_activation==\"tanh\":\n",
    "            z=np.tanh(x)\n",
    "        return z       \n",
    "    "
   ]
  },
  {
   "cell_type": "code",
   "execution_count": 8,
   "id": "969d5f39",
   "metadata": {},
   "outputs": [],
   "source": [
    "class neural_network:\n",
    "    def __init__(self,num_layers,units,x,y,linear_activations):\n",
    "        #num_layers: model parameter, number of layers without including the input layer, scalar\n",
    "        #units: model parameter, number of units of each layer, \n",
    "        #                         the input layer size should not be included in the list. type:list\n",
    "        #x: input with shape (n,m) n:number of features m:number of training examples\n",
    "        #y: input with shape (m,) m:number of training examples\n",
    "\n",
    "        self.num_layers=num_layers\n",
    "        self.units=units #it does not include the input layer size\n",
    "        self.parameters={}\n",
    "        self.m=x.shape[1];self.n=x.shape[0] #m:number of training examples, n:number of features\n",
    "        self.x=x\n",
    "        self.y=np.expand_dims(y,axis=0)\n",
    "        self.units_modified=copy.deepcopy(self.units)\n",
    "        (self.units_modified).insert(0,self.n)\n",
    "        self.linear_activations=linear_activations\n",
    "        \n",
    "        assert len(units)==num_layers, \"wrong number of units\"\n",
    "        assert type(units)==list, \"wrong type for parameter units\"\n",
    "        assert len(linear_activations)==num_layers,\"wrong linear_activations list\"\n",
    "        assert linear_activations[-1]=='sigmoid' or linear_activations[-1]=='relu',\\\n",
    "         \"wrong output layer activation function\"\n",
    "        \n",
    "    \n",
    "    def initialize_network(self):\n",
    "        for i in range(1,self.num_layers+1):\n",
    "            self.parameters['W'+str(i)]=np.random.randn(self.units_modified[i],self.units_modified[i-1])*0.01\n",
    "            self.parameters['b'+str(i)]=np.zeros((self.units[i-1],1))\n",
    "        return self.parameters\n",
    "  \n",
    "   \n",
    "        \n",
    "    def propagation(self):\n",
    "                 \n",
    "        self.parameters['z1']=np.matmul(self.parameters['W1'],self.x)+self.parameters['b1']\n",
    "        self.parameters['A1']=linear_activation_function(self.parameters['z1'],self.linear_activations[0])\n",
    "\n",
    "        for i in range(2,self.num_layers+1):\n",
    "            #print (i)\n",
    "            self.parameters['z'+str(i)]=np.matmul(self.parameters['W'+str(i)],self.parameters['A'+str(i-1)])+self.parameters['b'+str(i)]\n",
    "            self.parameters['A'+str(i)]=linear_activation_function(self.parameters['z'+str(i)],self.linear_activations[i-1])\n",
    "        \n",
    "\n",
    "        cost=-np.mean(self.y*np.log(self.parameters['A'+str(self.num_layers)])+\n",
    "                                       (1-self.y)*np.log(1-self.parameters['A'+str(self.num_layers)]))\n",
    "        \n",
    "        \n",
    "        self.parameters['dA'+str(self.num_layers)]=\\\n",
    "        -(np.divide(self.y, self.parameters['A'+str(self.num_layers)]) - np.divide(1 - self.y, 1 - self.parameters['A'+str(self.num_layers)]))\n",
    "       \n",
    "   \n",
    "        for i in reversed(range(1,self.num_layers+1)):\n",
    "            \n",
    "            self.parameters['db'+str(i)],self.parameters['dw'+str(i)],self.parameters['dA'+str(i-1)]=\\\n",
    "            self.back_propagate(self.parameters['dA'+str(i)],i,self.linear_activations[i-1])                 \n",
    "        return cost,self.parameters\n",
    " \n",
    " \n",
    "    def back_propagate(self,dA,l,linear_activation):\n",
    "        assert linear_activation=='relu' or linear_activation=='sigmoid' or linear_activation=='tanh', \"wrong output activation function\"\n",
    "        if linear_activation=='relu':\n",
    "            dz=dA\n",
    "        elif linear_activation=='sigmoid' :\n",
    "            z=self.parameters['z'+str(l)]\n",
    "            s=1/(1+np.exp(-z))\n",
    "            dz=dA*s*(1-s)\n",
    "        else:\n",
    "            z=self.parameters['z'+str(l)]\n",
    "            s=1-(np.tanh(z))**2.0\n",
    "            dz=dA*s       \n",
    "        db=np.mean(dz,axis=0,keepdims=True)\n",
    "        dA_prev=0\n",
    "        dA_prev=np.matmul(np.transpose(self.parameters['W'+str(l)]),dz)\n",
    "        if l!=1: dw=(1/self.m)*np.matmul(dz,np.transpose(self.parameters['A'+str(l-1)]))\n",
    "        else:    dw=(1/self.m)*np.matmul(dz,np.transpose(self.x))\n",
    "        \n",
    "        return db,dw,dA_prev\n",
    "    \n",
    "    def optimize(self,n_iter,learning_rate):\n",
    "        cost_history=list([])\n",
    "        for i in range(n_iter):\n",
    "            cost,params=self.propagation()\n",
    "            for i in range(1,self.num_layers+1):\n",
    "                self.parameters['W'+str(i)]=self.parameters['W'+str(i)]-learning_rate*self.parameters['dw'+str(i)]\n",
    "                self.parameters['b'+str(i)]=self.parameters['b'+str(i)]-learning_rate*self.parameters['db'+str(i)]\n",
    "            cost_history.append(cost)    \n",
    "        return cost_history,params\n",
    "    \n",
    " "
   ]
  },
  {
   "cell_type": "code",
   "execution_count": 9,
   "id": "5fe3b769",
   "metadata": {},
   "outputs": [],
   "source": [
    "mu,sigma,x_scaled=feature_scaling(x_train)\n",
    "num_layers=4\n",
    "units=[20, 7, 5, 1]\n",
    "nn=neural_network(num_layers,units,x_scaled,y_train_original,['relu','relu','relu','sigmoid'])\n",
    "nn.initialize_network()\n",
    "learning_rate=0.1\n",
    "n_iter=1000\n",
    "cost_history,params=nn.optimize(n_iter,learning_rate)"
   ]
  },
  {
   "cell_type": "code",
   "execution_count": 10,
   "id": "f8416feb",
   "metadata": {},
   "outputs": [
    {
     "data": {
      "text/plain": [
       "<matplotlib.collections.PathCollection at 0x1c2816109a0>"
      ]
     },
     "execution_count": 10,
     "metadata": {},
     "output_type": "execute_result"
    },
    {
     "data": {
      "image/png": "[encoded data removed]",
      "text/plain": [
       "<Figure size 432x288 with 1 Axes>"
      ]
     },
     "metadata": {
      "needs_background": "light"
     },
     "output_type": "display_data"
    }
   ],
   "source": [
    "plt.scatter(np.linspace(1, len(cost_history), num=len(cost_history)),cost_history)\n"
   ]
  },
  {
   "cell_type": "code",
   "execution_count": 14,
   "id": "484d5106",
   "metadata": {},
   "outputs": [],
   "source": [
    "def predict(x,y,num_layers,units,parameters,linear_activation):\n",
    "    A=x\n",
    "    for i in range(1,num_layers+1):\n",
    "        z=np.matmul(parameters['W'+str(i)],A)+parameters['b'+str(i)]\n",
    "        A=linear_activation_function(z,linear_activation[i-1])\n",
    "        \n",
    "\n",
    "    return(A)     \n",
    "        "
   ]
  },
  {
   "cell_type": "code",
   "execution_count": 15,
   "id": "2a7fcb36",
   "metadata": {},
   "outputs": [],
   "source": [
    "parameters=params\n",
    "output=predict(x_scaled,y_train_original,num_layers,units,params,['relu','relu','relu','sigmoid'])"
   ]
  },
  {
   "cell_type": "code",
   "execution_count": 16,
   "id": "fe74fdbb",
   "metadata": {},
   "outputs": [
    {
     "name": "stdout",
     "output_type": "stream",
     "text": [
      "100.0\n"
     ]
    }
   ],
   "source": [
    "y_predicted=(output>0.5).astype('int')\n",
    "accuracy=(np.sum(y_predicted==y_train_original))*100/len(y_train_original) #accuracy on data training\n",
    "print(accuracy)"
   ]
  },
  {
   "cell_type": "code",
   "execution_count": null,
   "id": "cd79c142",
   "metadata": {},
   "outputs": [],
   "source": [
    "\n",
    "        "
   ]
  }
 ],
 "metadata": {
  "kernelspec": {
   "display_name": "Python 3 (ipykernel)",
   "language": "python",
   "name": "python3"
  },
  "language_info": {
   "codemirror_mode": {
    "name": "ipython",
    "version": 3
   },
   "file_extension": ".py",
   "mimetype": "text/x-python",
   "name": "python",
   "nbconvert_exporter": "python",
   "pygments_lexer": "ipython3",
   "version": "3.9.7"
  }
 },
 "nbformat": 4,
 "nbformat_minor": 5
}
